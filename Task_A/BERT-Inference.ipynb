{
 "cells": [
  {
   "cell_type": "code",
   "execution_count": 1,
   "id": "c5eaf48b",
   "metadata": {},
   "outputs": [
    {
     "name": "stdout",
     "output_type": "stream",
     "text": [
      "Text: Premise: Lee kissed Kim . Hypothesis: Kim was kissed by Lee .\n",
      "Predicted Label: entailment (Confidence: 0.3742)\n",
      "============================================================\n"
     ]
    },
    {
     "name": "stderr",
     "output_type": "stream",
     "text": [
      "C:\\Users\\deshu\\anaconda3\\Lib\\site-packages\\transformers\\models\\bert\\modeling_bert.py:440: UserWarning: 1Torch was not compiled with flash attention. (Triggered internally at C:\\cb\\pytorch_1000000000000\\work\\aten\\src\\ATen\\native\\transformers\\cuda\\sdp_utils.cpp:263.)\n",
      "  attn_output = torch.nn.functional.scaled_dot_product_attention(\n"
     ]
    }
   ],
   "source": [
    "# # To test model on custom RTE Pairs:\n",
    "# import torch\n",
    "# from transformers import AutoTokenizer, AutoModelForSequenceClassification\n",
    "\n",
    "# model_path = \"./bert-finetuned-model\"\n",
    "\n",
    "# tokenizer = AutoTokenizer.from_pretrained(model_path)\n",
    "# model = AutoModelForSequenceClassification.from_pretrained(model_path)\n",
    "\n",
    "# model.eval()\n",
    "\n",
    "# def infer(texts, model, tokenizer, device=\"cuda\" if torch.cuda.is_available() else \"cpu\"):\n",
    "#     model.to(device)\n",
    "\n",
    "#     # Tokenize input\n",
    "#     encodings = tokenizer(texts, padding=True, truncation=True, max_length=512, return_tensors=\"pt\")\n",
    "#     input_ids = encodings[\"input_ids\"].to(device)\n",
    "#     attention_mask = encodings[\"attention_mask\"].to(device)\n",
    "\n",
    "#     # Inference\n",
    "#     with torch.no_grad():\n",
    "#         outputs = model(input_ids, attention_mask=attention_mask)\n",
    "#         logits = outputs.logits\n",
    "\n",
    "#     # Logits to probabilities\n",
    "#     probs = torch.nn.functional.softmax(logits, dim=-1)\n",
    "#     predictions = torch.argmax(probs, dim=-1)\n",
    "\n",
    "#     id2label = {0: \"entailment\", 1: \"contradiction\", 2: \"neutral\"}\n",
    "#     results = []\n",
    "#     for i, (pred, prob) in enumerate(zip(predictions, probs)):\n",
    "#         label = id2label[pred.item()]\n",
    "#         confidence = prob[pred].item()\n",
    "#         results.append({\n",
    "#             \"text\": texts[i],\n",
    "#             \"label\": label,\n",
    "#             \"confidence\": confidence\n",
    "#         })\n",
    "    \n",
    "#     return results\n",
    "\n",
    "# # Example\n",
    "# texts = [\n",
    "#     \"Premise: Lee kissed Kim . Hypothesis: Kim was kissed by Lee .\"\n",
    "# ]\n",
    "\n",
    "# results = infer(texts, model, tokenizer)\n",
    "\n",
    "# for res in results:\n",
    "#     print(f\"Text: {res['text']}\")\n",
    "#     print(f\"Predicted Label: {res['label']} (Confidence: {res['confidence']:.4f})\")\n",
    "#     print(\"=\"*60)"
   ]
  },
  {
   "cell_type": "code",
   "execution_count": 2,
   "id": "dcdac9ae",
   "metadata": {},
   "outputs": [
    {
     "data": {
      "text/plain": [
       "BertForSequenceClassification(\n",
       "  (bert): BertModel(\n",
       "    (embeddings): BertEmbeddings(\n",
       "      (word_embeddings): Embedding(30522, 768, padding_idx=0)\n",
       "      (position_embeddings): Embedding(512, 768)\n",
       "      (token_type_embeddings): Embedding(2, 768)\n",
       "      (LayerNorm): LayerNorm((768,), eps=1e-12, elementwise_affine=True)\n",
       "      (dropout): Dropout(p=0.1, inplace=False)\n",
       "    )\n",
       "    (encoder): BertEncoder(\n",
       "      (layer): ModuleList(\n",
       "        (0-11): 12 x BertLayer(\n",
       "          (attention): BertAttention(\n",
       "            (self): BertSdpaSelfAttention(\n",
       "              (query): Linear(in_features=768, out_features=768, bias=True)\n",
       "              (key): Linear(in_features=768, out_features=768, bias=True)\n",
       "              (value): Linear(in_features=768, out_features=768, bias=True)\n",
       "              (dropout): Dropout(p=0.1, inplace=False)\n",
       "            )\n",
       "            (output): BertSelfOutput(\n",
       "              (dense): Linear(in_features=768, out_features=768, bias=True)\n",
       "              (LayerNorm): LayerNorm((768,), eps=1e-12, elementwise_affine=True)\n",
       "              (dropout): Dropout(p=0.1, inplace=False)\n",
       "            )\n",
       "          )\n",
       "          (intermediate): BertIntermediate(\n",
       "            (dense): Linear(in_features=768, out_features=3072, bias=True)\n",
       "            (intermediate_act_fn): GELUActivation()\n",
       "          )\n",
       "          (output): BertOutput(\n",
       "            (dense): Linear(in_features=3072, out_features=768, bias=True)\n",
       "            (LayerNorm): LayerNorm((768,), eps=1e-12, elementwise_affine=True)\n",
       "            (dropout): Dropout(p=0.1, inplace=False)\n",
       "          )\n",
       "        )\n",
       "      )\n",
       "    )\n",
       "    (pooler): BertPooler(\n",
       "      (dense): Linear(in_features=768, out_features=768, bias=True)\n",
       "      (activation): Tanh()\n",
       "    )\n",
       "  )\n",
       "  (dropout): Dropout(p=0.1, inplace=False)\n",
       "  (classifier): Linear(in_features=768, out_features=3, bias=True)\n",
       ")"
      ]
     },
     "execution_count": 2,
     "metadata": {},
     "output_type": "execute_result"
    }
   ],
   "source": [
    "import torch\n",
    "import pandas as pd\n",
    "from transformers import AutoTokenizer, AutoModelForSequenceClassification\n",
    "from sklearn.metrics import accuracy_score, f1_score, classification_report\n",
    "\n",
    "model_path = \"./bert-finetuned-model\"\n",
    "tokenizer = AutoTokenizer.from_pretrained(model_path)\n",
    "model = AutoModelForSequenceClassification.from_pretrained(model_path)\n",
    "model.eval()\n",
    "\n",
    "device = \"cuda\" if torch.cuda.is_available() else \"cpu\"\n",
    "model.to(device)"
   ]
  },
  {
   "cell_type": "code",
   "execution_count": 4,
   "id": "b38287bc",
   "metadata": {},
   "outputs": [
    {
     "name": "stdout",
     "output_type": "stream",
     "text": [
      "Test samples: 9824\n"
     ]
    },
    {
     "data": {
      "text/html": [
       "<div>\n",
       "<style scoped>\n",
       "    .dataframe tbody tr th:only-of-type {\n",
       "        vertical-align: middle;\n",
       "    }\n",
       "\n",
       "    .dataframe tbody tr th {\n",
       "        vertical-align: top;\n",
       "    }\n",
       "\n",
       "    .dataframe thead th {\n",
       "        text-align: right;\n",
       "    }\n",
       "</style>\n",
       "<table border=\"1\" class=\"dataframe\">\n",
       "  <thead>\n",
       "    <tr style=\"text-align: right;\">\n",
       "      <th></th>\n",
       "      <th>text</th>\n",
       "      <th>label</th>\n",
       "    </tr>\n",
       "  </thead>\n",
       "  <tbody>\n",
       "    <tr>\n",
       "      <th>0</th>\n",
       "      <td>Premise: This church choir sings to the masses...</td>\n",
       "      <td>2.0</td>\n",
       "    </tr>\n",
       "    <tr>\n",
       "      <th>1</th>\n",
       "      <td>Premise: This church choir sings to the masses...</td>\n",
       "      <td>0.0</td>\n",
       "    </tr>\n",
       "    <tr>\n",
       "      <th>2</th>\n",
       "      <td>Premise: This church choir sings to the masses...</td>\n",
       "      <td>1.0</td>\n",
       "    </tr>\n",
       "    <tr>\n",
       "      <th>3</th>\n",
       "      <td>Premise: A woman with a green headscarf , blue...</td>\n",
       "      <td>2.0</td>\n",
       "    </tr>\n",
       "    <tr>\n",
       "      <th>4</th>\n",
       "      <td>Premise: A woman with a green headscarf , blue...</td>\n",
       "      <td>0.0</td>\n",
       "    </tr>\n",
       "  </tbody>\n",
       "</table>\n",
       "</div>"
      ],
      "text/plain": [
       "                                                text  label\n",
       "0  Premise: This church choir sings to the masses...    2.0\n",
       "1  Premise: This church choir sings to the masses...    0.0\n",
       "2  Premise: This church choir sings to the masses...    1.0\n",
       "3  Premise: A woman with a green headscarf , blue...    2.0\n",
       "4  Premise: A woman with a green headscarf , blue...    0.0"
      ]
     },
     "execution_count": 4,
     "metadata": {},
     "output_type": "execute_result"
    }
   ],
   "source": [
    "test_df = pd.read_csv(\"test_transformed.csv\")\n",
    "\n",
    "X_test = list(test_df[\"text\"])\n",
    "y_test = list(test_df[\"label\"])\n",
    "\n",
    "print(f\"Test samples: {len(X_test)}\")\n",
    "test_df.head()"
   ]
  },
  {
   "cell_type": "code",
   "execution_count": 5,
   "id": "e44e4b09",
   "metadata": {},
   "outputs": [],
   "source": [
    "def infer(texts, model, tokenizer, device):\n",
    "    # Tokenize input\n",
    "    encodings = tokenizer(texts, padding=True, truncation=True, max_length=512, return_tensors=\"pt\")\n",
    "    input_ids = encodings[\"input_ids\"].to(device)\n",
    "    attention_mask = encodings[\"attention_mask\"].to(device)\n",
    "\n",
    "    # Inference\n",
    "    with torch.no_grad():\n",
    "        outputs = model(input_ids, attention_mask=attention_mask)\n",
    "        logits = outputs.logits\n",
    "\n",
    "    # Logits to probabilities\n",
    "    probs = torch.nn.functional.softmax(logits, dim=-1)\n",
    "    predictions = torch.argmax(probs, dim=-1)\n",
    "\n",
    "    return predictions.cpu().tolist(), probs.cpu().tolist()"
   ]
  },
  {
   "cell_type": "code",
   "execution_count": 8,
   "id": "9b045a23",
   "metadata": {},
   "outputs": [],
   "source": [
    "batch_size = 32\n",
    "all_predictions = []\n",
    "all_probs = []\n",
    "\n",
    "for i in range(0, len(X_test), batch_size):\n",
    "    batch = X_test[i:i + batch_size]\n",
    "    preds, probs = infer(batch, model, tokenizer, device)\n",
    "    \n",
    "    all_predictions.extend(preds)\n",
    "    all_probs.extend(probs)\n",
    "\n",
    "id2label = {0: \"entailment\", 1: \"contradiction\", 2: \"neutral\"}\n",
    "all_labels = [id2label[pred] for pred in all_predictions]"
   ]
  },
  {
   "cell_type": "code",
   "execution_count": 11,
   "id": "bef14365",
   "metadata": {},
   "outputs": [
    {
     "name": "stdout",
     "output_type": "stream",
     "text": [
      "============================================================\n",
      "Accuracy: 0.6403\n",
      "Macro F1 Score: 0.6378\n",
      "============================================================\n",
      "               precision    recall  f1-score   support\n",
      "\n",
      "   entailment       0.65      0.73      0.69      3368\n",
      "contradiction       0.66      0.62      0.64      3237\n",
      "      neutral       0.61      0.57      0.59      3219\n",
      "\n",
      "     accuracy                           0.64      9824\n",
      "    macro avg       0.64      0.64      0.64      9824\n",
      " weighted avg       0.64      0.64      0.64      9824\n",
      "\n"
     ]
    }
   ],
   "source": [
    "accuracy = accuracy_score(y_test, all_predictions)\n",
    "f1 = f1_score(y_test, all_predictions, average=\"macro\")\n",
    "\n",
    "print(\"=\"*60)\n",
    "print(f\"Accuracy: {accuracy:.4f}\")\n",
    "print(f\"Macro F1 Score: {f1:.4f}\")\n",
    "print(\"=\"*60)\n",
    "\n",
    "report = classification_report(y_test, all_predictions, target_names=[\"entailment\", \"contradiction\", \"neutral\"])\n",
    "print(report)"
   ]
  },
  {
   "cell_type": "code",
   "execution_count": 10,
   "id": "a01710d7",
   "metadata": {},
   "outputs": [
    {
     "name": "stdout",
     "output_type": "stream",
     "text": [
      "Inference results saved to bert_test_inference_results.csv\n"
     ]
    }
   ],
   "source": [
    "output_df = pd.DataFrame({\n",
    "    \"text\": X_test,\n",
    "    \"true_label\": y_test,\n",
    "    \"predicted_label\": all_predictions,\n",
    "    \"confidence\": [max(prob) for prob in all_probs]\n",
    "})\n",
    "\n",
    "output_file = \"bert_test_inference_results.csv\"\n",
    "output_df.to_csv(output_file, index=False)\n",
    "\n",
    "print(f\"Inference results saved to {output_file}\")"
   ]
  },
  {
   "cell_type": "code",
   "execution_count": null,
   "id": "36c23bc6",
   "metadata": {},
   "outputs": [],
   "source": []
  }
 ],
 "metadata": {
  "kernelspec": {
   "display_name": "Python 3 (ipykernel)",
   "language": "python",
   "name": "python3"
  },
  "language_info": {
   "codemirror_mode": {
    "name": "ipython",
    "version": 3
   },
   "file_extension": ".py",
   "mimetype": "text/x-python",
   "name": "python",
   "nbconvert_exporter": "python",
   "pygments_lexer": "ipython3",
   "version": "3.11.5"
  }
 },
 "nbformat": 4,
 "nbformat_minor": 5
}
